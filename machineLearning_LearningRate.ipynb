{
  "nbformat": 4,
  "nbformat_minor": 0,
  "metadata": {
    "kernelspec": {
      "display_name": "Python 3",
      "language": "python",
      "name": "python3"
    },
    "language_info": {
      "codemirror_mode": {
        "name": "ipython",
        "version": 3
      },
      "file_extension": ".py",
      "mimetype": "text/x-python",
      "name": "python",
      "nbconvert_exporter": "python",
      "pygments_lexer": "ipython3",
      "version": "3.8.3"
    },
    "colab": {
      "name": "machineLearning-LearningRate.ipynb",
      "provenance": [],
      "include_colab_link": true
    }
  },
  "cells": [
    {
      "cell_type": "markdown",
      "metadata": {
        "id": "view-in-github",
        "colab_type": "text"
      },
      "source": [
        "<a href=\"https://colab.research.google.com/github/FariusGitHub/Learn-OpenGLES-Tutorials/blob/master/machineLearning_LearningRate.ipynb\" target=\"_parent\"><img src=\"https://colab.research.google.com/assets/colab-badge.svg\" alt=\"Open In Colab\"/></a>"
      ]
    },
    {
      "cell_type": "markdown",
      "metadata": {
        "id": "Frbr3nrZrj4G",
        "colab_type": "text"
      },
      "source": [
        "##  Data Science Fall 2020 Prebootcamp - F Tjioesman\n",
        "inspired by Machine Learning Gradient Descent Learning Rate by Nick Pogrebnyakov"
      ]
    },
    {
      "cell_type": "markdown",
      "metadata": {
        "id": "QIhMsyuYrj4J",
        "colab_type": "text"
      },
      "source": [
        "This exercise illustrates slow to converge and oveshooting mechanism of two learning rate alpha. Given a small alpha value the gradient descent can be slow to converge. On the other hand given a big alpha value the gradient descent can overshoot the minimum.\n",
        "\n",
        "I picked an example of a parabolic equation of y = (x+5).(x+5) between x=-10 and x=2.\n",
        "Alpha of 0.3 showed slow converge, alpha of 0.92 showed an overshoot for this case.\n",
        "The slow converge is represented by a green line and the overshoot by a red line."
      ]
    },
    {
      "cell_type": "markdown",
      "metadata": {
        "id": "zbYAT0fYrj4N",
        "colab_type": "text"
      },
      "source": [
        "![Picture1.png](attachment:1963bd75-89d2-4a66-8745-be47ebffa580.png)"
      ]
    },
    {
      "cell_type": "code",
      "metadata": {
        "id": "edtudt8-rj4Q",
        "colab_type": "code",
        "colab": {}
      },
      "source": [
        "import numpy as np\n",
        "import matplotlib.pyplot as plt\n",
        "\n",
        "x = np.linspace(-10,2,100) #create linear spacing for graphing original curve\n",
        "rate = [0.3, 0.92]         # Learning rate for overshoot rate = .92, slow r=.3\n",
        "\n",
        "precision = 0.000001       # This tells us when to stop the algorithm\n",
        "max_iters = 1000           # maximum number of iterations\n",
        "\n",
        "yf = lambda x: (x+5)**2    # original function  \n",
        "df = lambda x: 2*(x+5)     # Gradient of the function \n",
        "\n",
        "X1=[]                      # clear x axis for the slow converge\n",
        "Y1=[]                      # clear y axis for the slow converge\n",
        "X2=[]                      # clear x axis for the overshoot \n",
        "Y2=[]                      # clear y axis for the overshoot \n",
        "\n",
        "for a in range(len(rate)):\n",
        "    previous_step_size = 1 \n",
        "    iters = 0              # iteration counter\n",
        "    cur_x = -10            #The algorithm starts at x=-10\n",
        "\n",
        "    while previous_step_size > precision and iters < max_iters:\n",
        "\n",
        "        prev_x = cur_x #Store current x value in prev_x\n",
        "   \n",
        "        if a==0:\n",
        "            cur_x = cur_x - rate[a] * df(prev_x) #Grad descent for slow converge\n",
        "            X1.append(prev_x)\n",
        "            Y1.append(yf(prev_x))\n",
        "        else:\n",
        "            cur_x = cur_x - rate[a] * df(prev_x) #Grad descent for the overshoot\n",
        "            X2.append(prev_x)\n",
        "            Y2.append(yf(prev_x))\n",
        "\n",
        "        previous_step_size = abs(cur_x - prev_x) #Change in x\n",
        "        iters = iters+1 #iteration count\n",
        "\n",
        "fig = plt.figure(dpi=10)\n",
        "fig, axes = plt.subplots(1, 2)\n",
        "axes[0].plot(X1,Y1,'green', linewidth=5)\n",
        "axes[0].plot(x, yf(x), 'black')\n",
        "axes[0].set_title('slow converge')\n",
        "axes[1].plot(X2,Y2,'red', linewidth=5)\n",
        "axes[1].plot(x, yf(x), 'black')\n",
        "axes[1].set_title('overshooting')\n"
      ],
      "execution_count": null,
      "outputs": []
    }
  ]
}